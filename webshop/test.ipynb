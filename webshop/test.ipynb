{
 "cells": [
  {
   "metadata": {},
   "cell_type": "code",
   "source": "!python -m spacy download en_core_web_lg",
   "id": "7a6b5fb6548a3c5c",
   "outputs": [],
   "execution_count": null
  },
  {
   "cell_type": "code",
   "id": "initial_id",
   "metadata": {
    "collapsed": true,
    "jupyter": {
     "is_executing": true
    }
   },
   "source": [
    "import gym\n",
    "from web_agent_site.envs import WebAgentTextEnv\n",
    "from web_agent_site.utils import DEBUG_PROD_SIZE\n",
    "\n",
    "# intialize environment\n",
    "env = gym.make('WebAgentTextEnv-v0', observation_mode='text_rich', num_products=DEBUG_PROD_SIZE)\n",
    "\n",
    "# reset environment (each task idx corresponds to different human instruction)\n",
    "task_idx = 0 # (0 ~ 6510)\n",
    "obs, info = env.reset(session=task_idx)\n",
    "print(obs)\n",
    "action = 'search[iphone 13 pro]'\n",
    "# reward is given at the end of the episode (when you click[buy now]), based on the task information.\n",
    "obs, reward, done, info = env.step(action)\n",
    "print(obs)"
   ],
   "outputs": [],
   "execution_count": null
  },
  {
   "metadata": {},
   "cell_type": "code",
   "outputs": [],
   "execution_count": null,
   "source": "",
   "id": "c3f8f1dce9fad713"
  }
 ],
 "metadata": {
  "kernelspec": {
   "display_name": "Python 3",
   "language": "python",
   "name": "python3"
  },
  "language_info": {
   "codemirror_mode": {
    "name": "ipython",
    "version": 2
   },
   "file_extension": ".py",
   "mimetype": "text/x-python",
   "name": "python",
   "nbconvert_exporter": "python",
   "pygments_lexer": "ipython2",
   "version": "2.7.6"
  }
 },
 "nbformat": 4,
 "nbformat_minor": 5
}
